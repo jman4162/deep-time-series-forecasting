{
  "nbformat": 4,
  "nbformat_minor": 0,
  "metadata": {
    "colab": {
      "provenance": [],
      "machine_shape": "hm",
      "gpuType": "L4"
    },
    "kernelspec": {
      "name": "python3",
      "display_name": "Python 3"
    },
    "language_info": {
      "name": "python"
    },
    "accelerator": "GPU",
    "widgets": {
      "application/vnd.jupyter.widget-state+json": {
        "3213bf5fb68b46209f61c573159eb790": {
          "model_module": "@jupyter-widgets/controls",
          "model_name": "HBoxModel",
          "model_module_version": "1.5.0",
          "state": {
            "_dom_classes": [],
            "_model_module": "@jupyter-widgets/controls",
            "_model_module_version": "1.5.0",
            "_model_name": "HBoxModel",
            "_view_count": null,
            "_view_module": "@jupyter-widgets/controls",
            "_view_module_version": "1.5.0",
            "_view_name": "HBoxView",
            "box_style": "",
            "children": [
              "IPY_MODEL_463c07af814c4c5c952c54258ff73123",
              "IPY_MODEL_b1ed859991bd4bc5adf71a238c75cff2",
              "IPY_MODEL_5ac96e7570e14c53bfa307ca40a90e4b"
            ],
            "layout": "IPY_MODEL_39e4167862e04a58abefb631a1424cda"
          }
        },
        "463c07af814c4c5c952c54258ff73123": {
          "model_module": "@jupyter-widgets/controls",
          "model_name": "HTMLModel",
          "model_module_version": "1.5.0",
          "state": {
            "_dom_classes": [],
            "_model_module": "@jupyter-widgets/controls",
            "_model_module_version": "1.5.0",
            "_model_name": "HTMLModel",
            "_view_count": null,
            "_view_module": "@jupyter-widgets/controls",
            "_view_module_version": "1.5.0",
            "_view_name": "HTMLView",
            "description": "",
            "description_tooltip": null,
            "layout": "IPY_MODEL_b8c154736d8e4757a7e60505e13a5df7",
            "placeholder": "​",
            "style": "IPY_MODEL_6879fbb297b94e4484093b96ee4ae39b",
            "value": "config.json: 100%"
          }
        },
        "b1ed859991bd4bc5adf71a238c75cff2": {
          "model_module": "@jupyter-widgets/controls",
          "model_name": "FloatProgressModel",
          "model_module_version": "1.5.0",
          "state": {
            "_dom_classes": [],
            "_model_module": "@jupyter-widgets/controls",
            "_model_module_version": "1.5.0",
            "_model_name": "FloatProgressModel",
            "_view_count": null,
            "_view_module": "@jupyter-widgets/controls",
            "_view_module_version": "1.5.0",
            "_view_name": "ProgressView",
            "bar_style": "success",
            "description": "",
            "description_tooltip": null,
            "layout": "IPY_MODEL_cf649111e5c24ac4a22ed4555885135c",
            "max": 1113,
            "min": 0,
            "orientation": "horizontal",
            "style": "IPY_MODEL_e0d6f4fd27734883a9c93d38ecec361a",
            "value": 1113
          }
        },
        "5ac96e7570e14c53bfa307ca40a90e4b": {
          "model_module": "@jupyter-widgets/controls",
          "model_name": "HTMLModel",
          "model_module_version": "1.5.0",
          "state": {
            "_dom_classes": [],
            "_model_module": "@jupyter-widgets/controls",
            "_model_module_version": "1.5.0",
            "_model_name": "HTMLModel",
            "_view_count": null,
            "_view_module": "@jupyter-widgets/controls",
            "_view_module_version": "1.5.0",
            "_view_name": "HTMLView",
            "description": "",
            "description_tooltip": null,
            "layout": "IPY_MODEL_4c045c64d66b4f84a3de2384199eb490",
            "placeholder": "​",
            "style": "IPY_MODEL_babcd456bb5e44a9a3eee12bfb3271e1",
            "value": " 1.11k/1.11k [00:00&lt;00:00, 86.7kB/s]"
          }
        },
        "39e4167862e04a58abefb631a1424cda": {
          "model_module": "@jupyter-widgets/base",
          "model_name": "LayoutModel",
          "model_module_version": "1.2.0",
          "state": {
            "_model_module": "@jupyter-widgets/base",
            "_model_module_version": "1.2.0",
            "_model_name": "LayoutModel",
            "_view_count": null,
            "_view_module": "@jupyter-widgets/base",
            "_view_module_version": "1.2.0",
            "_view_name": "LayoutView",
            "align_content": null,
            "align_items": null,
            "align_self": null,
            "border": null,
            "bottom": null,
            "display": null,
            "flex": null,
            "flex_flow": null,
            "grid_area": null,
            "grid_auto_columns": null,
            "grid_auto_flow": null,
            "grid_auto_rows": null,
            "grid_column": null,
            "grid_gap": null,
            "grid_row": null,
            "grid_template_areas": null,
            "grid_template_columns": null,
            "grid_template_rows": null,
            "height": null,
            "justify_content": null,
            "justify_items": null,
            "left": null,
            "margin": null,
            "max_height": null,
            "max_width": null,
            "min_height": null,
            "min_width": null,
            "object_fit": null,
            "object_position": null,
            "order": null,
            "overflow": null,
            "overflow_x": null,
            "overflow_y": null,
            "padding": null,
            "right": null,
            "top": null,
            "visibility": null,
            "width": null
          }
        },
        "b8c154736d8e4757a7e60505e13a5df7": {
          "model_module": "@jupyter-widgets/base",
          "model_name": "LayoutModel",
          "model_module_version": "1.2.0",
          "state": {
            "_model_module": "@jupyter-widgets/base",
            "_model_module_version": "1.2.0",
            "_model_name": "LayoutModel",
            "_view_count": null,
            "_view_module": "@jupyter-widgets/base",
            "_view_module_version": "1.2.0",
            "_view_name": "LayoutView",
            "align_content": null,
            "align_items": null,
            "align_self": null,
            "border": null,
            "bottom": null,
            "display": null,
            "flex": null,
            "flex_flow": null,
            "grid_area": null,
            "grid_auto_columns": null,
            "grid_auto_flow": null,
            "grid_auto_rows": null,
            "grid_column": null,
            "grid_gap": null,
            "grid_row": null,
            "grid_template_areas": null,
            "grid_template_columns": null,
            "grid_template_rows": null,
            "height": null,
            "justify_content": null,
            "justify_items": null,
            "left": null,
            "margin": null,
            "max_height": null,
            "max_width": null,
            "min_height": null,
            "min_width": null,
            "object_fit": null,
            "object_position": null,
            "order": null,
            "overflow": null,
            "overflow_x": null,
            "overflow_y": null,
            "padding": null,
            "right": null,
            "top": null,
            "visibility": null,
            "width": null
          }
        },
        "6879fbb297b94e4484093b96ee4ae39b": {
          "model_module": "@jupyter-widgets/controls",
          "model_name": "DescriptionStyleModel",
          "model_module_version": "1.5.0",
          "state": {
            "_model_module": "@jupyter-widgets/controls",
            "_model_module_version": "1.5.0",
            "_model_name": "DescriptionStyleModel",
            "_view_count": null,
            "_view_module": "@jupyter-widgets/base",
            "_view_module_version": "1.2.0",
            "_view_name": "StyleView",
            "description_width": ""
          }
        },
        "cf649111e5c24ac4a22ed4555885135c": {
          "model_module": "@jupyter-widgets/base",
          "model_name": "LayoutModel",
          "model_module_version": "1.2.0",
          "state": {
            "_model_module": "@jupyter-widgets/base",
            "_model_module_version": "1.2.0",
            "_model_name": "LayoutModel",
            "_view_count": null,
            "_view_module": "@jupyter-widgets/base",
            "_view_module_version": "1.2.0",
            "_view_name": "LayoutView",
            "align_content": null,
            "align_items": null,
            "align_self": null,
            "border": null,
            "bottom": null,
            "display": null,
            "flex": null,
            "flex_flow": null,
            "grid_area": null,
            "grid_auto_columns": null,
            "grid_auto_flow": null,
            "grid_auto_rows": null,
            "grid_column": null,
            "grid_gap": null,
            "grid_row": null,
            "grid_template_areas": null,
            "grid_template_columns": null,
            "grid_template_rows": null,
            "height": null,
            "justify_content": null,
            "justify_items": null,
            "left": null,
            "margin": null,
            "max_height": null,
            "max_width": null,
            "min_height": null,
            "min_width": null,
            "object_fit": null,
            "object_position": null,
            "order": null,
            "overflow": null,
            "overflow_x": null,
            "overflow_y": null,
            "padding": null,
            "right": null,
            "top": null,
            "visibility": null,
            "width": null
          }
        },
        "e0d6f4fd27734883a9c93d38ecec361a": {
          "model_module": "@jupyter-widgets/controls",
          "model_name": "ProgressStyleModel",
          "model_module_version": "1.5.0",
          "state": {
            "_model_module": "@jupyter-widgets/controls",
            "_model_module_version": "1.5.0",
            "_model_name": "ProgressStyleModel",
            "_view_count": null,
            "_view_module": "@jupyter-widgets/base",
            "_view_module_version": "1.2.0",
            "_view_name": "StyleView",
            "bar_color": null,
            "description_width": ""
          }
        },
        "4c045c64d66b4f84a3de2384199eb490": {
          "model_module": "@jupyter-widgets/base",
          "model_name": "LayoutModel",
          "model_module_version": "1.2.0",
          "state": {
            "_model_module": "@jupyter-widgets/base",
            "_model_module_version": "1.2.0",
            "_model_name": "LayoutModel",
            "_view_count": null,
            "_view_module": "@jupyter-widgets/base",
            "_view_module_version": "1.2.0",
            "_view_name": "LayoutView",
            "align_content": null,
            "align_items": null,
            "align_self": null,
            "border": null,
            "bottom": null,
            "display": null,
            "flex": null,
            "flex_flow": null,
            "grid_area": null,
            "grid_auto_columns": null,
            "grid_auto_flow": null,
            "grid_auto_rows": null,
            "grid_column": null,
            "grid_gap": null,
            "grid_row": null,
            "grid_template_areas": null,
            "grid_template_columns": null,
            "grid_template_rows": null,
            "height": null,
            "justify_content": null,
            "justify_items": null,
            "left": null,
            "margin": null,
            "max_height": null,
            "max_width": null,
            "min_height": null,
            "min_width": null,
            "object_fit": null,
            "object_position": null,
            "order": null,
            "overflow": null,
            "overflow_x": null,
            "overflow_y": null,
            "padding": null,
            "right": null,
            "top": null,
            "visibility": null,
            "width": null
          }
        },
        "babcd456bb5e44a9a3eee12bfb3271e1": {
          "model_module": "@jupyter-widgets/controls",
          "model_name": "DescriptionStyleModel",
          "model_module_version": "1.5.0",
          "state": {
            "_model_module": "@jupyter-widgets/controls",
            "_model_module_version": "1.5.0",
            "_model_name": "DescriptionStyleModel",
            "_view_count": null,
            "_view_module": "@jupyter-widgets/base",
            "_view_module_version": "1.2.0",
            "_view_name": "StyleView",
            "description_width": ""
          }
        },
        "04032f56dbe041d79fe4b57579b06fbc": {
          "model_module": "@jupyter-widgets/controls",
          "model_name": "HBoxModel",
          "model_module_version": "1.5.0",
          "state": {
            "_dom_classes": [],
            "_model_module": "@jupyter-widgets/controls",
            "_model_module_version": "1.5.0",
            "_model_name": "HBoxModel",
            "_view_count": null,
            "_view_module": "@jupyter-widgets/controls",
            "_view_module_version": "1.5.0",
            "_view_name": "HBoxView",
            "box_style": "",
            "children": [
              "IPY_MODEL_e76cc84d6e94492d8a52b2a71f6b3f46",
              "IPY_MODEL_cfd79e0215be4b669c5dbf3b2923f131",
              "IPY_MODEL_3626567b697147aa9b3804b98c903ba5"
            ],
            "layout": "IPY_MODEL_3afe368e56cd4b67af7ccda86edd3714"
          }
        },
        "e76cc84d6e94492d8a52b2a71f6b3f46": {
          "model_module": "@jupyter-widgets/controls",
          "model_name": "HTMLModel",
          "model_module_version": "1.5.0",
          "state": {
            "_dom_classes": [],
            "_model_module": "@jupyter-widgets/controls",
            "_model_module_version": "1.5.0",
            "_model_name": "HTMLModel",
            "_view_count": null,
            "_view_module": "@jupyter-widgets/controls",
            "_view_module_version": "1.5.0",
            "_view_name": "HTMLView",
            "description": "",
            "description_tooltip": null,
            "layout": "IPY_MODEL_08c051e54fa042a8ad4756f65f7b5705",
            "placeholder": "​",
            "style": "IPY_MODEL_5c95afb83f684123976323dc6aa140dd",
            "value": "model.safetensors: 100%"
          }
        },
        "cfd79e0215be4b669c5dbf3b2923f131": {
          "model_module": "@jupyter-widgets/controls",
          "model_name": "FloatProgressModel",
          "model_module_version": "1.5.0",
          "state": {
            "_dom_classes": [],
            "_model_module": "@jupyter-widgets/controls",
            "_model_module_version": "1.5.0",
            "_model_name": "FloatProgressModel",
            "_view_count": null,
            "_view_module": "@jupyter-widgets/controls",
            "_view_module_version": "1.5.0",
            "_view_name": "ProgressView",
            "bar_style": "success",
            "description": "",
            "description_tooltip": null,
            "layout": "IPY_MODEL_3702338c5f2f42bd9211e10a41ec11a7",
            "max": 184632480,
            "min": 0,
            "orientation": "horizontal",
            "style": "IPY_MODEL_3e63e84476a448f1b691d7375702e1ec",
            "value": 184632480
          }
        },
        "3626567b697147aa9b3804b98c903ba5": {
          "model_module": "@jupyter-widgets/controls",
          "model_name": "HTMLModel",
          "model_module_version": "1.5.0",
          "state": {
            "_dom_classes": [],
            "_model_module": "@jupyter-widgets/controls",
            "_model_module_version": "1.5.0",
            "_model_name": "HTMLModel",
            "_view_count": null,
            "_view_module": "@jupyter-widgets/controls",
            "_view_module_version": "1.5.0",
            "_view_name": "HTMLView",
            "description": "",
            "description_tooltip": null,
            "layout": "IPY_MODEL_bc5d0fcf565f4be19f1bfe46155cf918",
            "placeholder": "​",
            "style": "IPY_MODEL_796c85f48a104f7896a41daf533b6504",
            "value": " 185M/185M [00:01&lt;00:00, 222MB/s]"
          }
        },
        "3afe368e56cd4b67af7ccda86edd3714": {
          "model_module": "@jupyter-widgets/base",
          "model_name": "LayoutModel",
          "model_module_version": "1.2.0",
          "state": {
            "_model_module": "@jupyter-widgets/base",
            "_model_module_version": "1.2.0",
            "_model_name": "LayoutModel",
            "_view_count": null,
            "_view_module": "@jupyter-widgets/base",
            "_view_module_version": "1.2.0",
            "_view_name": "LayoutView",
            "align_content": null,
            "align_items": null,
            "align_self": null,
            "border": null,
            "bottom": null,
            "display": null,
            "flex": null,
            "flex_flow": null,
            "grid_area": null,
            "grid_auto_columns": null,
            "grid_auto_flow": null,
            "grid_auto_rows": null,
            "grid_column": null,
            "grid_gap": null,
            "grid_row": null,
            "grid_template_areas": null,
            "grid_template_columns": null,
            "grid_template_rows": null,
            "height": null,
            "justify_content": null,
            "justify_items": null,
            "left": null,
            "margin": null,
            "max_height": null,
            "max_width": null,
            "min_height": null,
            "min_width": null,
            "object_fit": null,
            "object_position": null,
            "order": null,
            "overflow": null,
            "overflow_x": null,
            "overflow_y": null,
            "padding": null,
            "right": null,
            "top": null,
            "visibility": null,
            "width": null
          }
        },
        "08c051e54fa042a8ad4756f65f7b5705": {
          "model_module": "@jupyter-widgets/base",
          "model_name": "LayoutModel",
          "model_module_version": "1.2.0",
          "state": {
            "_model_module": "@jupyter-widgets/base",
            "_model_module_version": "1.2.0",
            "_model_name": "LayoutModel",
            "_view_count": null,
            "_view_module": "@jupyter-widgets/base",
            "_view_module_version": "1.2.0",
            "_view_name": "LayoutView",
            "align_content": null,
            "align_items": null,
            "align_self": null,
            "border": null,
            "bottom": null,
            "display": null,
            "flex": null,
            "flex_flow": null,
            "grid_area": null,
            "grid_auto_columns": null,
            "grid_auto_flow": null,
            "grid_auto_rows": null,
            "grid_column": null,
            "grid_gap": null,
            "grid_row": null,
            "grid_template_areas": null,
            "grid_template_columns": null,
            "grid_template_rows": null,
            "height": null,
            "justify_content": null,
            "justify_items": null,
            "left": null,
            "margin": null,
            "max_height": null,
            "max_width": null,
            "min_height": null,
            "min_width": null,
            "object_fit": null,
            "object_position": null,
            "order": null,
            "overflow": null,
            "overflow_x": null,
            "overflow_y": null,
            "padding": null,
            "right": null,
            "top": null,
            "visibility": null,
            "width": null
          }
        },
        "5c95afb83f684123976323dc6aa140dd": {
          "model_module": "@jupyter-widgets/controls",
          "model_name": "DescriptionStyleModel",
          "model_module_version": "1.5.0",
          "state": {
            "_model_module": "@jupyter-widgets/controls",
            "_model_module_version": "1.5.0",
            "_model_name": "DescriptionStyleModel",
            "_view_count": null,
            "_view_module": "@jupyter-widgets/base",
            "_view_module_version": "1.2.0",
            "_view_name": "StyleView",
            "description_width": ""
          }
        },
        "3702338c5f2f42bd9211e10a41ec11a7": {
          "model_module": "@jupyter-widgets/base",
          "model_name": "LayoutModel",
          "model_module_version": "1.2.0",
          "state": {
            "_model_module": "@jupyter-widgets/base",
            "_model_module_version": "1.2.0",
            "_model_name": "LayoutModel",
            "_view_count": null,
            "_view_module": "@jupyter-widgets/base",
            "_view_module_version": "1.2.0",
            "_view_name": "LayoutView",
            "align_content": null,
            "align_items": null,
            "align_self": null,
            "border": null,
            "bottom": null,
            "display": null,
            "flex": null,
            "flex_flow": null,
            "grid_area": null,
            "grid_auto_columns": null,
            "grid_auto_flow": null,
            "grid_auto_rows": null,
            "grid_column": null,
            "grid_gap": null,
            "grid_row": null,
            "grid_template_areas": null,
            "grid_template_columns": null,
            "grid_template_rows": null,
            "height": null,
            "justify_content": null,
            "justify_items": null,
            "left": null,
            "margin": null,
            "max_height": null,
            "max_width": null,
            "min_height": null,
            "min_width": null,
            "object_fit": null,
            "object_position": null,
            "order": null,
            "overflow": null,
            "overflow_x": null,
            "overflow_y": null,
            "padding": null,
            "right": null,
            "top": null,
            "visibility": null,
            "width": null
          }
        },
        "3e63e84476a448f1b691d7375702e1ec": {
          "model_module": "@jupyter-widgets/controls",
          "model_name": "ProgressStyleModel",
          "model_module_version": "1.5.0",
          "state": {
            "_model_module": "@jupyter-widgets/controls",
            "_model_module_version": "1.5.0",
            "_model_name": "ProgressStyleModel",
            "_view_count": null,
            "_view_module": "@jupyter-widgets/base",
            "_view_module_version": "1.2.0",
            "_view_name": "StyleView",
            "bar_color": null,
            "description_width": ""
          }
        },
        "bc5d0fcf565f4be19f1bfe46155cf918": {
          "model_module": "@jupyter-widgets/base",
          "model_name": "LayoutModel",
          "model_module_version": "1.2.0",
          "state": {
            "_model_module": "@jupyter-widgets/base",
            "_model_module_version": "1.2.0",
            "_model_name": "LayoutModel",
            "_view_count": null,
            "_view_module": "@jupyter-widgets/base",
            "_view_module_version": "1.2.0",
            "_view_name": "LayoutView",
            "align_content": null,
            "align_items": null,
            "align_self": null,
            "border": null,
            "bottom": null,
            "display": null,
            "flex": null,
            "flex_flow": null,
            "grid_area": null,
            "grid_auto_columns": null,
            "grid_auto_flow": null,
            "grid_auto_rows": null,
            "grid_column": null,
            "grid_gap": null,
            "grid_row": null,
            "grid_template_areas": null,
            "grid_template_columns": null,
            "grid_template_rows": null,
            "height": null,
            "justify_content": null,
            "justify_items": null,
            "left": null,
            "margin": null,
            "max_height": null,
            "max_width": null,
            "min_height": null,
            "min_width": null,
            "object_fit": null,
            "object_position": null,
            "order": null,
            "overflow": null,
            "overflow_x": null,
            "overflow_y": null,
            "padding": null,
            "right": null,
            "top": null,
            "visibility": null,
            "width": null
          }
        },
        "796c85f48a104f7896a41daf533b6504": {
          "model_module": "@jupyter-widgets/controls",
          "model_name": "DescriptionStyleModel",
          "model_module_version": "1.5.0",
          "state": {
            "_model_module": "@jupyter-widgets/controls",
            "_model_module_version": "1.5.0",
            "_model_name": "DescriptionStyleModel",
            "_view_count": null,
            "_view_module": "@jupyter-widgets/base",
            "_view_module_version": "1.2.0",
            "_view_name": "StyleView",
            "description_width": ""
          }
        },
        "6a0ab4cca10d41b89d0ca94f874c0ec5": {
          "model_module": "@jupyter-widgets/controls",
          "model_name": "HBoxModel",
          "model_module_version": "1.5.0",
          "state": {
            "_dom_classes": [],
            "_model_module": "@jupyter-widgets/controls",
            "_model_module_version": "1.5.0",
            "_model_name": "HBoxModel",
            "_view_count": null,
            "_view_module": "@jupyter-widgets/controls",
            "_view_module_version": "1.5.0",
            "_view_name": "HBoxView",
            "box_style": "",
            "children": [
              "IPY_MODEL_8306e4d675f04361a10e22bd3ee6f339",
              "IPY_MODEL_b94158563508448dad517d74fa8b0606",
              "IPY_MODEL_d2170e95d884403d939e6060c5b51c0c"
            ],
            "layout": "IPY_MODEL_5aea3c0c80074e0191c4d50f61ee71e9"
          }
        },
        "8306e4d675f04361a10e22bd3ee6f339": {
          "model_module": "@jupyter-widgets/controls",
          "model_name": "HTMLModel",
          "model_module_version": "1.5.0",
          "state": {
            "_dom_classes": [],
            "_model_module": "@jupyter-widgets/controls",
            "_model_module_version": "1.5.0",
            "_model_name": "HTMLModel",
            "_view_count": null,
            "_view_module": "@jupyter-widgets/controls",
            "_view_module_version": "1.5.0",
            "_view_name": "HTMLView",
            "description": "",
            "description_tooltip": null,
            "layout": "IPY_MODEL_2990d5213fc74d468ee419e450930cc1",
            "placeholder": "​",
            "style": "IPY_MODEL_ba85a3d6052a47be87b5cd8083f33f00",
            "value": "generation_config.json: 100%"
          }
        },
        "b94158563508448dad517d74fa8b0606": {
          "model_module": "@jupyter-widgets/controls",
          "model_name": "FloatProgressModel",
          "model_module_version": "1.5.0",
          "state": {
            "_dom_classes": [],
            "_model_module": "@jupyter-widgets/controls",
            "_model_module_version": "1.5.0",
            "_model_name": "FloatProgressModel",
            "_view_count": null,
            "_view_module": "@jupyter-widgets/controls",
            "_view_module_version": "1.5.0",
            "_view_name": "ProgressView",
            "bar_style": "success",
            "description": "",
            "description_tooltip": null,
            "layout": "IPY_MODEL_133052e056d442f7a626f2d555316c52",
            "max": 142,
            "min": 0,
            "orientation": "horizontal",
            "style": "IPY_MODEL_ef819276913c4b4b8925d6e6e8873d5c",
            "value": 142
          }
        },
        "d2170e95d884403d939e6060c5b51c0c": {
          "model_module": "@jupyter-widgets/controls",
          "model_name": "HTMLModel",
          "model_module_version": "1.5.0",
          "state": {
            "_dom_classes": [],
            "_model_module": "@jupyter-widgets/controls",
            "_model_module_version": "1.5.0",
            "_model_name": "HTMLModel",
            "_view_count": null,
            "_view_module": "@jupyter-widgets/controls",
            "_view_module_version": "1.5.0",
            "_view_name": "HTMLView",
            "description": "",
            "description_tooltip": null,
            "layout": "IPY_MODEL_cc3d73af64bd4396b7748d19b4b89514",
            "placeholder": "​",
            "style": "IPY_MODEL_37bf4a01ae81470e951faf6fed9d7a64",
            "value": " 142/142 [00:00&lt;00:00, 12.4kB/s]"
          }
        },
        "5aea3c0c80074e0191c4d50f61ee71e9": {
          "model_module": "@jupyter-widgets/base",
          "model_name": "LayoutModel",
          "model_module_version": "1.2.0",
          "state": {
            "_model_module": "@jupyter-widgets/base",
            "_model_module_version": "1.2.0",
            "_model_name": "LayoutModel",
            "_view_count": null,
            "_view_module": "@jupyter-widgets/base",
            "_view_module_version": "1.2.0",
            "_view_name": "LayoutView",
            "align_content": null,
            "align_items": null,
            "align_self": null,
            "border": null,
            "bottom": null,
            "display": null,
            "flex": null,
            "flex_flow": null,
            "grid_area": null,
            "grid_auto_columns": null,
            "grid_auto_flow": null,
            "grid_auto_rows": null,
            "grid_column": null,
            "grid_gap": null,
            "grid_row": null,
            "grid_template_areas": null,
            "grid_template_columns": null,
            "grid_template_rows": null,
            "height": null,
            "justify_content": null,
            "justify_items": null,
            "left": null,
            "margin": null,
            "max_height": null,
            "max_width": null,
            "min_height": null,
            "min_width": null,
            "object_fit": null,
            "object_position": null,
            "order": null,
            "overflow": null,
            "overflow_x": null,
            "overflow_y": null,
            "padding": null,
            "right": null,
            "top": null,
            "visibility": null,
            "width": null
          }
        },
        "2990d5213fc74d468ee419e450930cc1": {
          "model_module": "@jupyter-widgets/base",
          "model_name": "LayoutModel",
          "model_module_version": "1.2.0",
          "state": {
            "_model_module": "@jupyter-widgets/base",
            "_model_module_version": "1.2.0",
            "_model_name": "LayoutModel",
            "_view_count": null,
            "_view_module": "@jupyter-widgets/base",
            "_view_module_version": "1.2.0",
            "_view_name": "LayoutView",
            "align_content": null,
            "align_items": null,
            "align_self": null,
            "border": null,
            "bottom": null,
            "display": null,
            "flex": null,
            "flex_flow": null,
            "grid_area": null,
            "grid_auto_columns": null,
            "grid_auto_flow": null,
            "grid_auto_rows": null,
            "grid_column": null,
            "grid_gap": null,
            "grid_row": null,
            "grid_template_areas": null,
            "grid_template_columns": null,
            "grid_template_rows": null,
            "height": null,
            "justify_content": null,
            "justify_items": null,
            "left": null,
            "margin": null,
            "max_height": null,
            "max_width": null,
            "min_height": null,
            "min_width": null,
            "object_fit": null,
            "object_position": null,
            "order": null,
            "overflow": null,
            "overflow_x": null,
            "overflow_y": null,
            "padding": null,
            "right": null,
            "top": null,
            "visibility": null,
            "width": null
          }
        },
        "ba85a3d6052a47be87b5cd8083f33f00": {
          "model_module": "@jupyter-widgets/controls",
          "model_name": "DescriptionStyleModel",
          "model_module_version": "1.5.0",
          "state": {
            "_model_module": "@jupyter-widgets/controls",
            "_model_module_version": "1.5.0",
            "_model_name": "DescriptionStyleModel",
            "_view_count": null,
            "_view_module": "@jupyter-widgets/base",
            "_view_module_version": "1.2.0",
            "_view_name": "StyleView",
            "description_width": ""
          }
        },
        "133052e056d442f7a626f2d555316c52": {
          "model_module": "@jupyter-widgets/base",
          "model_name": "LayoutModel",
          "model_module_version": "1.2.0",
          "state": {
            "_model_module": "@jupyter-widgets/base",
            "_model_module_version": "1.2.0",
            "_model_name": "LayoutModel",
            "_view_count": null,
            "_view_module": "@jupyter-widgets/base",
            "_view_module_version": "1.2.0",
            "_view_name": "LayoutView",
            "align_content": null,
            "align_items": null,
            "align_self": null,
            "border": null,
            "bottom": null,
            "display": null,
            "flex": null,
            "flex_flow": null,
            "grid_area": null,
            "grid_auto_columns": null,
            "grid_auto_flow": null,
            "grid_auto_rows": null,
            "grid_column": null,
            "grid_gap": null,
            "grid_row": null,
            "grid_template_areas": null,
            "grid_template_columns": null,
            "grid_template_rows": null,
            "height": null,
            "justify_content": null,
            "justify_items": null,
            "left": null,
            "margin": null,
            "max_height": null,
            "max_width": null,
            "min_height": null,
            "min_width": null,
            "object_fit": null,
            "object_position": null,
            "order": null,
            "overflow": null,
            "overflow_x": null,
            "overflow_y": null,
            "padding": null,
            "right": null,
            "top": null,
            "visibility": null,
            "width": null
          }
        },
        "ef819276913c4b4b8925d6e6e8873d5c": {
          "model_module": "@jupyter-widgets/controls",
          "model_name": "ProgressStyleModel",
          "model_module_version": "1.5.0",
          "state": {
            "_model_module": "@jupyter-widgets/controls",
            "_model_module_version": "1.5.0",
            "_model_name": "ProgressStyleModel",
            "_view_count": null,
            "_view_module": "@jupyter-widgets/base",
            "_view_module_version": "1.2.0",
            "_view_name": "StyleView",
            "bar_color": null,
            "description_width": ""
          }
        },
        "cc3d73af64bd4396b7748d19b4b89514": {
          "model_module": "@jupyter-widgets/base",
          "model_name": "LayoutModel",
          "model_module_version": "1.2.0",
          "state": {
            "_model_module": "@jupyter-widgets/base",
            "_model_module_version": "1.2.0",
            "_model_name": "LayoutModel",
            "_view_count": null,
            "_view_module": "@jupyter-widgets/base",
            "_view_module_version": "1.2.0",
            "_view_name": "LayoutView",
            "align_content": null,
            "align_items": null,
            "align_self": null,
            "border": null,
            "bottom": null,
            "display": null,
            "flex": null,
            "flex_flow": null,
            "grid_area": null,
            "grid_auto_columns": null,
            "grid_auto_flow": null,
            "grid_auto_rows": null,
            "grid_column": null,
            "grid_gap": null,
            "grid_row": null,
            "grid_template_areas": null,
            "grid_template_columns": null,
            "grid_template_rows": null,
            "height": null,
            "justify_content": null,
            "justify_items": null,
            "left": null,
            "margin": null,
            "max_height": null,
            "max_width": null,
            "min_height": null,
            "min_width": null,
            "object_fit": null,
            "object_position": null,
            "order": null,
            "overflow": null,
            "overflow_x": null,
            "overflow_y": null,
            "padding": null,
            "right": null,
            "top": null,
            "visibility": null,
            "width": null
          }
        },
        "37bf4a01ae81470e951faf6fed9d7a64": {
          "model_module": "@jupyter-widgets/controls",
          "model_name": "DescriptionStyleModel",
          "model_module_version": "1.5.0",
          "state": {
            "_model_module": "@jupyter-widgets/controls",
            "_model_module_version": "1.5.0",
            "_model_name": "DescriptionStyleModel",
            "_view_count": null,
            "_view_module": "@jupyter-widgets/base",
            "_view_module_version": "1.2.0",
            "_view_name": "StyleView",
            "description_width": ""
          }
        }
      }
    }
  },
  "cells": [
    {
      "cell_type": "markdown",
      "source": [
        "# Chronos Time-Series Tutorial: Pretrained (Language) Models for Probabilistic Time Series Forecasting\n",
        "\n",
        "Name: John Hodge\n",
        "\n",
        "Date: 06/06/2024\n",
        "\n",
        "Source: [Chronos: Learning the Language of Time Series](https://github.com/amazon-science/chronos-forecasting)"
      ],
      "metadata": {
        "id": "Y5ypCMledYu4"
      }
    },
    {
      "cell_type": "markdown",
      "source": [
        "## Introduction\n",
        "\n",
        "In this tutorial, we'll explore Chronos, a novel approach to time series forecasting that treats time series data as a language and leverages powerful language model architectures like Transformers. Developed by researchers at Google AI, Chronos achieves impressive performance on a wide range of time series forecasting tasks without requiring extensive dataset-specific tuning or model customization.\n",
        "\n",
        "The key insight behind Chronos is to tokenize real-valued time series observations into a fixed vocabulary, enabling us to apply off-the-shelf language models to the \"language of time series.\" This is achieved by scaling the time series by its absolute mean and then quantizing the scaled values into uniformly spaced bins, which are assigned unique tokens. Special tokens like PAD and EOS are also added to handle padding and end-of-sequence.\n",
        "\n",
        "Once tokenized, the time series data can be fed into standard language models like T5, which are trained using the conventional cross-entropy loss function, with no changes to the model architecture itself. Despite its simplicity, Chronos demonstrates remarkable accuracy, outperforming classical statistical methods and specialized deep learning models on held-out data, and achieving comparable or superior zero-shot performance on entirely new datasets.\n",
        "\n",
        "#### High-level depiction of Chronos\n",
        "\n",
        "![Chronos](https://github.com/amazon-science/chronos-forecasting/raw/main/figures/main-figure.png)\n",
        "\n",
        "*Fig. 1: High-level depiction of Chronos. (Left) The input time series is scaled and quantized to obtain a sequence of tokens. (Center) The tokens are fed into a language model which may either be an encoder-decoder or a decoder-only model. The model is trained using the cross-entropy loss. (Right) During inference, we autoregressively sample tokens from the model and map them back to numerical values. Multiple trajectories are sampled to obtain a predictive distribution* [[Source](https://github.com/amazon-science/chronos-forecasting)]."
      ],
      "metadata": {
        "id": "xPMZKZtkdsAK"
      }
    },
    {
      "cell_type": "markdown",
      "source": [
        "## Tutorial\n",
        "\n",
        "In this tutorial, we'll walk through the following steps:\n",
        "\n",
        "1. **Data Preparation**: Loading and preprocessing time series data for use with Chronos.\n",
        "2. **Tokenization**: Implementing the time series tokenization process described above.\n",
        "3. **Model Training**: Training a language model on the tokenized time series data.\n",
        "4. **Evaluation**: Assessing the performance of the trained model on held-out data.\n",
        "5. **Inference**: Using the trained model for time series forecasting on new data.\n",
        "\n",
        "By the end of this tutorial, you'll have a solid understanding of how Chronos works and how to apply it to your own time series forecasting tasks. Let's get started!"
      ],
      "metadata": {
        "id": "Llt2wiFCfFDT"
      }
    },
    {
      "cell_type": "code",
      "execution_count": null,
      "metadata": {
        "colab": {
          "base_uri": "https://localhost:8080/"
        },
        "id": "wrdVF_vBcUqS",
        "outputId": "0ac9d4d1-c8ae-48b1-fdb4-3d0790f8dc4c"
      },
      "outputs": [
        {
          "output_type": "stream",
          "name": "stdout",
          "text": [
            "Collecting git+https://github.com/amazon-science/chronos-forecasting.git\n",
            "  Cloning https://github.com/amazon-science/chronos-forecasting.git to /tmp/pip-req-build-4nuphwyw\n",
            "  Running command git clone --filter=blob:none --quiet https://github.com/amazon-science/chronos-forecasting.git /tmp/pip-req-build-4nuphwyw\n",
            "  Resolved https://github.com/amazon-science/chronos-forecasting.git to commit 601d52db75455e6b0a3bbf16f4c3c26370fefd51\n",
            "  Installing build dependencies ... \u001b[?25l\u001b[?25hdone\n",
            "  Getting requirements to build wheel ... \u001b[?25l\u001b[?25hdone\n",
            "  Preparing metadata (pyproject.toml) ... \u001b[?25l\u001b[?25hdone\n",
            "Requirement already satisfied: torch~=2.0 in /usr/local/lib/python3.10/dist-packages (from chronos==1.2.0) (2.3.0+cu121)\n",
            "Requirement already satisfied: transformers~=4.30 in /usr/local/lib/python3.10/dist-packages (from chronos==1.2.0) (4.41.2)\n",
            "Collecting accelerate (from chronos==1.2.0)\n",
            "  Downloading accelerate-0.30.1-py3-none-any.whl (302 kB)\n",
            "\u001b[2K     \u001b[90m━━━━━━━━━━━━━━━━━━━━━━━━━━━━━━━━━━━━━━━━\u001b[0m \u001b[32m302.6/302.6 kB\u001b[0m \u001b[31m6.1 MB/s\u001b[0m eta \u001b[36m0:00:00\u001b[0m\n",
            "\u001b[?25hRequirement already satisfied: filelock in /usr/local/lib/python3.10/dist-packages (from torch~=2.0->chronos==1.2.0) (3.14.0)\n",
            "Requirement already satisfied: typing-extensions>=4.8.0 in /usr/local/lib/python3.10/dist-packages (from torch~=2.0->chronos==1.2.0) (4.12.1)\n",
            "Requirement already satisfied: sympy in /usr/local/lib/python3.10/dist-packages (from torch~=2.0->chronos==1.2.0) (1.12.1)\n",
            "Requirement already satisfied: networkx in /usr/local/lib/python3.10/dist-packages (from torch~=2.0->chronos==1.2.0) (3.3)\n",
            "Requirement already satisfied: jinja2 in /usr/local/lib/python3.10/dist-packages (from torch~=2.0->chronos==1.2.0) (3.1.4)\n",
            "Requirement already satisfied: fsspec in /usr/local/lib/python3.10/dist-packages (from torch~=2.0->chronos==1.2.0) (2023.6.0)\n",
            "Collecting nvidia-cuda-nvrtc-cu12==12.1.105 (from torch~=2.0->chronos==1.2.0)\n",
            "  Using cached nvidia_cuda_nvrtc_cu12-12.1.105-py3-none-manylinux1_x86_64.whl (23.7 MB)\n",
            "Collecting nvidia-cuda-runtime-cu12==12.1.105 (from torch~=2.0->chronos==1.2.0)\n",
            "  Using cached nvidia_cuda_runtime_cu12-12.1.105-py3-none-manylinux1_x86_64.whl (823 kB)\n",
            "Collecting nvidia-cuda-cupti-cu12==12.1.105 (from torch~=2.0->chronos==1.2.0)\n",
            "  Using cached nvidia_cuda_cupti_cu12-12.1.105-py3-none-manylinux1_x86_64.whl (14.1 MB)\n",
            "Collecting nvidia-cudnn-cu12==8.9.2.26 (from torch~=2.0->chronos==1.2.0)\n",
            "  Using cached nvidia_cudnn_cu12-8.9.2.26-py3-none-manylinux1_x86_64.whl (731.7 MB)\n",
            "Collecting nvidia-cublas-cu12==12.1.3.1 (from torch~=2.0->chronos==1.2.0)\n",
            "  Using cached nvidia_cublas_cu12-12.1.3.1-py3-none-manylinux1_x86_64.whl (410.6 MB)\n",
            "Collecting nvidia-cufft-cu12==11.0.2.54 (from torch~=2.0->chronos==1.2.0)\n",
            "  Using cached nvidia_cufft_cu12-11.0.2.54-py3-none-manylinux1_x86_64.whl (121.6 MB)\n",
            "Collecting nvidia-curand-cu12==10.3.2.106 (from torch~=2.0->chronos==1.2.0)\n",
            "  Using cached nvidia_curand_cu12-10.3.2.106-py3-none-manylinux1_x86_64.whl (56.5 MB)\n",
            "Collecting nvidia-cusolver-cu12==11.4.5.107 (from torch~=2.0->chronos==1.2.0)\n",
            "  Using cached nvidia_cusolver_cu12-11.4.5.107-py3-none-manylinux1_x86_64.whl (124.2 MB)\n",
            "Collecting nvidia-cusparse-cu12==12.1.0.106 (from torch~=2.0->chronos==1.2.0)\n",
            "  Using cached nvidia_cusparse_cu12-12.1.0.106-py3-none-manylinux1_x86_64.whl (196.0 MB)\n",
            "Collecting nvidia-nccl-cu12==2.20.5 (from torch~=2.0->chronos==1.2.0)\n",
            "  Using cached nvidia_nccl_cu12-2.20.5-py3-none-manylinux2014_x86_64.whl (176.2 MB)\n",
            "Collecting nvidia-nvtx-cu12==12.1.105 (from torch~=2.0->chronos==1.2.0)\n",
            "  Using cached nvidia_nvtx_cu12-12.1.105-py3-none-manylinux1_x86_64.whl (99 kB)\n",
            "Requirement already satisfied: triton==2.3.0 in /usr/local/lib/python3.10/dist-packages (from torch~=2.0->chronos==1.2.0) (2.3.0)\n",
            "Collecting nvidia-nvjitlink-cu12 (from nvidia-cusolver-cu12==11.4.5.107->torch~=2.0->chronos==1.2.0)\n",
            "  Downloading nvidia_nvjitlink_cu12-12.5.40-py3-none-manylinux2014_x86_64.whl (21.3 MB)\n",
            "\u001b[2K     \u001b[90m━━━━━━━━━━━━━━━━━━━━━━━━━━━━━━━━━━━━━━━━\u001b[0m \u001b[32m21.3/21.3 MB\u001b[0m \u001b[31m71.9 MB/s\u001b[0m eta \u001b[36m0:00:00\u001b[0m\n",
            "\u001b[?25hRequirement already satisfied: huggingface-hub<1.0,>=0.23.0 in /usr/local/lib/python3.10/dist-packages (from transformers~=4.30->chronos==1.2.0) (0.23.2)\n",
            "Requirement already satisfied: numpy>=1.17 in /usr/local/lib/python3.10/dist-packages (from transformers~=4.30->chronos==1.2.0) (1.25.2)\n",
            "Requirement already satisfied: packaging>=20.0 in /usr/local/lib/python3.10/dist-packages (from transformers~=4.30->chronos==1.2.0) (24.0)\n",
            "Requirement already satisfied: pyyaml>=5.1 in /usr/local/lib/python3.10/dist-packages (from transformers~=4.30->chronos==1.2.0) (6.0.1)\n",
            "Requirement already satisfied: regex!=2019.12.17 in /usr/local/lib/python3.10/dist-packages (from transformers~=4.30->chronos==1.2.0) (2024.5.15)\n",
            "Requirement already satisfied: requests in /usr/local/lib/python3.10/dist-packages (from transformers~=4.30->chronos==1.2.0) (2.31.0)\n",
            "Requirement already satisfied: tokenizers<0.20,>=0.19 in /usr/local/lib/python3.10/dist-packages (from transformers~=4.30->chronos==1.2.0) (0.19.1)\n",
            "Requirement already satisfied: safetensors>=0.4.1 in /usr/local/lib/python3.10/dist-packages (from transformers~=4.30->chronos==1.2.0) (0.4.3)\n",
            "Requirement already satisfied: tqdm>=4.27 in /usr/local/lib/python3.10/dist-packages (from transformers~=4.30->chronos==1.2.0) (4.66.4)\n",
            "Requirement already satisfied: psutil in /usr/local/lib/python3.10/dist-packages (from accelerate->chronos==1.2.0) (5.9.5)\n",
            "Requirement already satisfied: MarkupSafe>=2.0 in /usr/local/lib/python3.10/dist-packages (from jinja2->torch~=2.0->chronos==1.2.0) (2.1.5)\n",
            "Requirement already satisfied: charset-normalizer<4,>=2 in /usr/local/lib/python3.10/dist-packages (from requests->transformers~=4.30->chronos==1.2.0) (3.3.2)\n",
            "Requirement already satisfied: idna<4,>=2.5 in /usr/local/lib/python3.10/dist-packages (from requests->transformers~=4.30->chronos==1.2.0) (3.7)\n",
            "Requirement already satisfied: urllib3<3,>=1.21.1 in /usr/local/lib/python3.10/dist-packages (from requests->transformers~=4.30->chronos==1.2.0) (2.0.7)\n",
            "Requirement already satisfied: certifi>=2017.4.17 in /usr/local/lib/python3.10/dist-packages (from requests->transformers~=4.30->chronos==1.2.0) (2024.6.2)\n",
            "Requirement already satisfied: mpmath<1.4.0,>=1.1.0 in /usr/local/lib/python3.10/dist-packages (from sympy->torch~=2.0->chronos==1.2.0) (1.3.0)\n",
            "Building wheels for collected packages: chronos\n",
            "  Building wheel for chronos (pyproject.toml) ... \u001b[?25l\u001b[?25hdone\n",
            "  Created wheel for chronos: filename=chronos-1.2.0-py3-none-any.whl size=13877 sha256=cf53270eba068a01a5b5eb68e9448cc4b6a880631f16068cd329c1776006e131\n",
            "  Stored in directory: /tmp/pip-ephem-wheel-cache-ed67btqj/wheels/bf/c1/65/08857e57345ef1b34ba0edb4791f1b2594943e82f34e93a4ab\n",
            "Successfully built chronos\n",
            "Installing collected packages: nvidia-nvtx-cu12, nvidia-nvjitlink-cu12, nvidia-nccl-cu12, nvidia-curand-cu12, nvidia-cufft-cu12, nvidia-cuda-runtime-cu12, nvidia-cuda-nvrtc-cu12, nvidia-cuda-cupti-cu12, nvidia-cublas-cu12, nvidia-cusparse-cu12, nvidia-cudnn-cu12, nvidia-cusolver-cu12, accelerate, chronos\n",
            "Successfully installed accelerate-0.30.1 chronos-1.2.0 nvidia-cublas-cu12-12.1.3.1 nvidia-cuda-cupti-cu12-12.1.105 nvidia-cuda-nvrtc-cu12-12.1.105 nvidia-cuda-runtime-cu12-12.1.105 nvidia-cudnn-cu12-8.9.2.26 nvidia-cufft-cu12-11.0.2.54 nvidia-curand-cu12-10.3.2.106 nvidia-cusolver-cu12-11.4.5.107 nvidia-cusparse-cu12-12.1.0.106 nvidia-nccl-cu12-2.20.5 nvidia-nvjitlink-cu12-12.5.40 nvidia-nvtx-cu12-12.1.105\n"
          ]
        }
      ],
      "source": [
        "!pip install git+https://github.com/amazon-science/chronos-forecasting.git"
      ]
    },
    {
      "cell_type": "code",
      "source": [
        "# Print compute instance type\n",
        "!nvidia-smi -L"
      ],
      "metadata": {
        "colab": {
          "base_uri": "https://localhost:8080/"
        },
        "id": "yLo6FViCfmcR",
        "outputId": "d16b91ee-51d5-4562-85d5-5494a9c270c9"
      },
      "execution_count": null,
      "outputs": [
        {
          "output_type": "stream",
          "name": "stdout",
          "text": [
            "GPU 0: NVIDIA L4 (UUID: GPU-8ece455b-8358-07c3-046b-59e60ee1bb29)\n"
          ]
        }
      ]
    },
    {
      "cell_type": "code",
      "source": [
        "import pandas as pd\n",
        "import torch\n",
        "import matplotlib.pyplot as plt\n",
        "import numpy as np\n",
        "from chronos import ChronosPipeline"
      ],
      "metadata": {
        "id": "IW6tGCjxcXlu"
      },
      "execution_count": null,
      "outputs": []
    },
    {
      "cell_type": "code",
      "source": [
        "pipeline = ChronosPipeline.from_pretrained(\n",
        "    \"amazon/chronos-t5-small\",\n",
        "    device_map=\"cuda\",\n",
        "    torch_dtype=torch.bfloat16,\n",
        ")"
      ],
      "metadata": {
        "colab": {
          "base_uri": "https://localhost:8080/",
          "height": 168,
          "referenced_widgets": [
            "3213bf5fb68b46209f61c573159eb790",
            "463c07af814c4c5c952c54258ff73123",
            "b1ed859991bd4bc5adf71a238c75cff2",
            "5ac96e7570e14c53bfa307ca40a90e4b",
            "39e4167862e04a58abefb631a1424cda",
            "b8c154736d8e4757a7e60505e13a5df7",
            "6879fbb297b94e4484093b96ee4ae39b",
            "cf649111e5c24ac4a22ed4555885135c",
            "e0d6f4fd27734883a9c93d38ecec361a",
            "4c045c64d66b4f84a3de2384199eb490",
            "babcd456bb5e44a9a3eee12bfb3271e1",
            "04032f56dbe041d79fe4b57579b06fbc",
            "e76cc84d6e94492d8a52b2a71f6b3f46",
            "cfd79e0215be4b669c5dbf3b2923f131",
            "3626567b697147aa9b3804b98c903ba5",
            "3afe368e56cd4b67af7ccda86edd3714",
            "08c051e54fa042a8ad4756f65f7b5705",
            "5c95afb83f684123976323dc6aa140dd",
            "3702338c5f2f42bd9211e10a41ec11a7",
            "3e63e84476a448f1b691d7375702e1ec",
            "bc5d0fcf565f4be19f1bfe46155cf918",
            "796c85f48a104f7896a41daf533b6504",
            "6a0ab4cca10d41b89d0ca94f874c0ec5",
            "8306e4d675f04361a10e22bd3ee6f339",
            "b94158563508448dad517d74fa8b0606",
            "d2170e95d884403d939e6060c5b51c0c",
            "5aea3c0c80074e0191c4d50f61ee71e9",
            "2990d5213fc74d468ee419e450930cc1",
            "ba85a3d6052a47be87b5cd8083f33f00",
            "133052e056d442f7a626f2d555316c52",
            "ef819276913c4b4b8925d6e6e8873d5c",
            "cc3d73af64bd4396b7748d19b4b89514",
            "37bf4a01ae81470e951faf6fed9d7a64"
          ]
        },
        "id": "Z0Vt4meFcZcn",
        "outputId": "b2c8de57-bb90-4fd0-e58d-e6ced60bb970"
      },
      "execution_count": null,
      "outputs": [
        {
          "output_type": "stream",
          "name": "stderr",
          "text": [
            "/usr/local/lib/python3.10/dist-packages/huggingface_hub/file_download.py:1132: FutureWarning: `resume_download` is deprecated and will be removed in version 1.0.0. Downloads always resume when possible. If you want to force a new download, use `force_download=True`.\n",
            "  warnings.warn(\n"
          ]
        },
        {
          "output_type": "display_data",
          "data": {
            "text/plain": [
              "config.json:   0%|          | 0.00/1.11k [00:00<?, ?B/s]"
            ],
            "application/vnd.jupyter.widget-view+json": {
              "version_major": 2,
              "version_minor": 0,
              "model_id": "3213bf5fb68b46209f61c573159eb790"
            }
          },
          "metadata": {}
        },
        {
          "output_type": "display_data",
          "data": {
            "text/plain": [
              "model.safetensors:   0%|          | 0.00/185M [00:00<?, ?B/s]"
            ],
            "application/vnd.jupyter.widget-view+json": {
              "version_major": 2,
              "version_minor": 0,
              "model_id": "04032f56dbe041d79fe4b57579b06fbc"
            }
          },
          "metadata": {}
        },
        {
          "output_type": "display_data",
          "data": {
            "text/plain": [
              "generation_config.json:   0%|          | 0.00/142 [00:00<?, ?B/s]"
            ],
            "application/vnd.jupyter.widget-view+json": {
              "version_major": 2,
              "version_minor": 0,
              "model_id": "6a0ab4cca10d41b89d0ca94f874c0ec5"
            }
          },
          "metadata": {}
        }
      ]
    },
    {
      "cell_type": "code",
      "source": [
        "df = pd.read_csv(\"https://raw.githubusercontent.com/AileenNielsen/TimeSeriesAnalysisWithPython/master/data/AirPassengers.csv\")"
      ],
      "metadata": {
        "id": "H3ROrTItcbMn"
      },
      "execution_count": null,
      "outputs": []
    },
    {
      "cell_type": "code",
      "source": [
        "# context must be either a 1D tensor, a list of 1D tensors,\n",
        "# or a left-padded 2D tensor with batch as the first dimension\n",
        "# forecast shape: [num_series, num_samples, prediction_length]\n",
        "forecast = pipeline.predict(\n",
        "    context=torch.tensor(df[\"#Passengers\"]),\n",
        "    prediction_length=12,\n",
        "    num_samples=20,\n",
        ")"
      ],
      "metadata": {
        "id": "cLZjlScdccvI"
      },
      "execution_count": null,
      "outputs": []
    },
    {
      "cell_type": "code",
      "source": [
        "forecast_index = range(len(df), len(df) + 12)\n",
        "low, median, high = np.quantile(forecast[0].numpy(), [0.1, 0.5, 0.9], axis=0)"
      ],
      "metadata": {
        "id": "HeX298rScogZ"
      },
      "execution_count": null,
      "outputs": []
    },
    {
      "cell_type": "code",
      "source": [
        "plt.figure(figsize=(8, 4))\n",
        "plt.plot(df[\"#Passengers\"], color=\"royalblue\", label=\"historical data\")\n",
        "plt.plot(forecast_index, median, color=\"tomato\", label=\"median forecast\")\n",
        "plt.fill_between(forecast_index, low, high, color=\"tomato\", alpha=0.3, label=\"80% prediction interval\")\n",
        "plt.legend()\n",
        "plt.grid()\n",
        "plt.show()"
      ],
      "metadata": {
        "colab": {
          "base_uri": "https://localhost:8080/",
          "height": 368
        },
        "id": "TVjyDj9YcuTK",
        "outputId": "0f113d94-2457-49e3-a633-7a5b107959e8"
      },
      "execution_count": null,
      "outputs": [
        {
          "output_type": "display_data",
          "data": {
            "text/plain": [
              "<Figure size 800x400 with 1 Axes>"
            ],
            "image/png": "[encoded data removed]"
          },
          "metadata": {}
        }
      ]
    },
    {
      "cell_type": "markdown",
      "source": [
        "## References\n",
        "\n",
        "- [Chronos: Learning the Language of Time Series](https://github.com/amazon-science/chronos-forecasting)\n",
        "- [Adapting language model architectures for time series forecasting](https://www.amazon.science/blog/adapting-language-model-architectures-for-time-series-forecasting)"
      ],
      "metadata": {
        "id": "fPrND4tmdL8s"
      }
    },
    {
      "cell_type": "markdown",
      "source": [
        "## Appendix"
      ],
      "metadata": {
        "id": "LEaY6HskfPTm"
      }
    },
    {
      "cell_type": "markdown",
      "source": [
        "### A1) Summary of \"Chronos: Learning the Language of Time Series\"\n",
        "\n",
        "#### Abstract\n",
        "\n",
        "**Chronos Framework:**  \n",
        "- **Objective:** Introduces a simple yet effective framework for pretrained probabilistic time series models.\n",
        "- **Method:** Chronos tokenizes time series values using scaling and quantization into a fixed vocabulary. It trains existing transformer-based language model architectures on these tokenized time series via cross-entropy loss.\n",
        "- **Models:** Pretrained Chronos models based on the T5 family (ranging from 20M to 710M parameters) on a large collection of publicly available datasets, supplemented by synthetic data generated via Gaussian processes.\n",
        "- **Results:** Chronos models outperform other methods on datasets that were part of the training corpus and show comparable or superior zero-shot performance on new datasets relative to methods trained specifically on them.\n",
        "- **Implication:** Demonstrates that pretrained models can leverage diverse time series data to improve zero-shot accuracy on unseen forecasting tasks, simplifying forecasting pipelines.\n",
        "\n",
        "#### Introduction\n",
        "\n",
        "**Importance of Time Series Forecasting:**  \n",
        "- Essential for decision-making in various domains like retail, energy, finance, healthcare, and climate science.\n",
        "- Traditional methods include ARIMA and ETS.\n",
        "- Deep learning techniques have emerged due to the availability of large and diverse data sources and operational forecasting problems.\n",
        "\n",
        "**Shift Towards Pretrained Models:**  \n",
        "- Interest in developing foundation models for time series due to the success of large language models (LLMs) with zero-shot learning capabilities.\n",
        "- Existing methods either directly prompt pretrained LLMs in natural language or fine-tune LLMs for time series tasks.\n",
        "\n",
        "**Chronos Approach:**  \n",
        "- Treats time series as a sequence and tokenizes the values into discrete bins through scaling and quantization.\n",
        "- Trains off-the-shelf language models on these tokenized time series without changes to the model architecture.\n",
        "\n",
        "#### Chronos Framework\n",
        "\n",
        "**Tokenization:**  \n",
        "- Maps time series values to a finite set of tokens using scaling and quantization.\n",
        "- Uses mean scaling to normalize time series values.\n",
        "- Employs uniform binning for quantization to ensure generalization across different datasets.\n",
        "\n",
        "**Training:**  \n",
        "- Trains language models using the cross-entropy loss.\n",
        "- Models learn to predict the next value in the series by modeling the sequential structure of the data.\n",
        "- Does not incorporate time and frequency information, treating time series as sequences.\n",
        "\n",
        "**Forecasting:**  \n",
        "- Probabilistic forecasting is achieved by autoregressively sampling from the predicted distribution.\n",
        "- Dequantization and unscaled mapping are applied to obtain actual forecasts.\n",
        "\n",
        "#### Data Augmentation\n",
        "\n",
        "**Synthetic Data Generation:**  \n",
        "- Enhances training data diversity through TSMixup and KernelSynth techniques.\n",
        "- TSMixup generates new time series by combining base series from different training datasets.\n",
        "- KernelSynth uses Gaussian processes to generate synthetic time series.\n",
        "\n",
        "#### Evaluation\n",
        "\n",
        "**Comprehensive Benchmark:**  \n",
        "- Evaluated across 42 datasets, showing superior performance on in-domain and zero-shot forecasting.\n",
        "- Outperforms both traditional models and task-specific deep learning approaches.\n",
        "\n",
        "#### Conclusion\n",
        "\n",
        "**Chronos as a Benchmark:**  \n",
        "- Establishes a strong benchmark for both in-domain and zero-shot forecasting.\n",
        "- Its accuracy and modest model size make it a preferable alternative to larger, more computationally demanding models.\n",
        "\n",
        "**Future Directions:**  \n",
        "- Suggests potential for Chronos to be further developed as a generalist time series model, leveraging advancements in LLMs.\n",
        "\n",
        "### Key Contributions\n",
        "\n",
        "1. Introduces a minimalistic yet effective framework for probabilistic time series forecasting using language models.\n",
        "2. Demonstrates that pretrained language models can achieve high zero-shot forecasting accuracy.\n",
        "3. Proposes data augmentation techniques to enhance model robustness and generalization.\n",
        "\n",
        "Chronos bridges the gap between language models and time series forecasting, showing that language model architectures can be effectively applied to time series problems with minimal modifications.\n",
        "\n",
        "Link to paper: https://arxiv.org/pdf/2403.07815"
      ],
      "metadata": {
        "id": "LMrDlK3-hZvJ"
      }
    },
    {
      "cell_type": "markdown",
      "source": [
        "### A2) Chronos Pipelines"
      ],
      "metadata": {
        "id": "LaWRS4KJh9z2"
      }
    },
    {
      "cell_type": "code",
      "source": [
        "print(ChronosPipeline.predict.__doc__)"
      ],
      "metadata": {
        "colab": {
          "base_uri": "https://localhost:8080/"
        },
        "id": "zauKYDRGcoAM",
        "outputId": "73608971-2575-4e4c-b53b-0776a4a37b09"
      },
      "execution_count": null,
      "outputs": [
        {
          "output_type": "stream",
          "name": "stdout",
          "text": [
            "\n",
            "        Get forecasts for the given time series.\n",
            "\n",
            "        Parameters\n",
            "        ----------\n",
            "        context\n",
            "            Input series. This is either a 1D tensor, or a list\n",
            "            of 1D tensors, or a 2D tensor whose first dimension\n",
            "            is batch. In the latter case, use left-padding with\n",
            "            ``torch.nan`` to align series of different lengths.\n",
            "        prediction_length\n",
            "            Time steps to predict. Defaults to what specified\n",
            "            in ``self.model.config``.\n",
            "        num_samples\n",
            "            Number of sample paths to predict. Defaults to what\n",
            "            specified in ``self.model.config``.\n",
            "        temperature\n",
            "            Temperature to use for generating sample tokens.\n",
            "            Defaults to what specified in ``self.model.config``.\n",
            "        top_k\n",
            "            Top-k parameter to use for generating sample tokens.\n",
            "            Defaults to what specified in ``self.model.config``.\n",
            "        top_p\n",
            "            Top-p parameter to use for generating sample tokens.\n",
            "            Defaults to what specified in ``self.model.config``.\n",
            "        limit_prediction_length\n",
            "            Force prediction length smaller or equal than the\n",
            "            built-in prediction length from the model. True by\n",
            "            default. When true, fail loudly if longer predictions\n",
            "            are requested, otherwise longer predictions are allowed.\n",
            "\n",
            "        Returns\n",
            "        -------\n",
            "        samples\n",
            "            Tensor of sample forecasts, of shape\n",
            "            (batch_size, num_samples, prediction_length).\n",
            "        \n"
          ]
        }
      ]
    }
  ]
}